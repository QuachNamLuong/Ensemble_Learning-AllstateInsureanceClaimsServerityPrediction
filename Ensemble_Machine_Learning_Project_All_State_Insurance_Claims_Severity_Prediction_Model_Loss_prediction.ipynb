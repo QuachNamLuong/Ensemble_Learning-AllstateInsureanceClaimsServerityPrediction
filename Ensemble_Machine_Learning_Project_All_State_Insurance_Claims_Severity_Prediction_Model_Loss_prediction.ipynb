{
 "cells": [
  {
   "cell_type": "markdown",
   "metadata": {
    "id": "M3ntPwhMyXGu"
   },
   "source": [
    "#### Script to Predict the output on new observations"
   ]
  },
  {
   "cell_type": "code",
   "source": [
    "# !pip install matplotlib==3.9.2\n",
    "# !pip install numpy==2.1.2\n",
    "# !pip install pandas==2.2.3\n",
    "# !pip install scikit_learn==1.5.2\n",
    "# !pip install seaborn==0.13.2"
   ],
   "metadata": {
    "colab": {
     "base_uri": "https://localhost:8080/"
    },
    "id": "QVMVMeGLyYRm",
    "executionInfo": {
     "status": "ok",
     "timestamp": 1644231047668,
     "user_tz": -330,
     "elapsed": 28888,
     "user": {
      "displayName": "Siddhi Jadhav",
      "photoUrl": "https://lh3.googleusercontent.com/a/default-user=s64",
      "userId": "08402691859170607175"
     }
    },
    "outputId": "81baded5-7054-4001-fc05-38fca8d15e36",
    "ExecuteTime": {
     "end_time": "2024-10-25T15:23:23.595318Z",
     "start_time": "2024-10-25T15:23:23.492474Z"
    }
   },
   "outputs": [],
   "execution_count": 13
  },
  {
   "cell_type": "code",
   "metadata": {
    "id": "VO80OBLFyXGy",
    "ExecuteTime": {
     "end_time": "2024-10-25T15:25:34.616064Z",
     "start_time": "2024-10-25T15:25:34.597058Z"
    }
   },
   "source": [
    "import pandas as pd\n",
    "import numpy as np\n",
    "import pickle\n",
    "from zipfile import ZipFile\n",
    "\n",
    "pd.options.mode.copy_on_write = True "
   ],
   "outputs": [],
   "execution_count": 26
  },
  {
   "cell_type": "code",
   "source": [
    "zipfile = ZipFile('data/dataset.zip', 'r')\n",
    "zipfile.namelist()"
   ],
   "metadata": {
    "colab": {
     "base_uri": "https://localhost:8080/"
    },
    "id": "62FLIWX-0afe",
    "executionInfo": {
     "status": "ok",
     "timestamp": 1644231390290,
     "user_tz": -330,
     "elapsed": 1445,
     "user": {
      "displayName": "Siddhi Jadhav",
      "photoUrl": "https://lh3.googleusercontent.com/a/default-user=s64",
      "userId": "08402691859170607175"
     }
    },
    "outputId": "204e79fa-46a4-47f3-a8ea-5a39f50e4427",
    "ExecuteTime": {
     "end_time": "2024-10-25T15:23:23.831976Z",
     "start_time": "2024-10-25T15:23:23.799742Z"
    }
   },
   "outputs": [
    {
     "data": {
      "text/plain": [
       "['test.csv',\n",
       " '__MACOSX/',\n",
       " '__MACOSX/._test.csv',\n",
       " 'train.csv',\n",
       " '__MACOSX/._train.csv',\n",
       " 'test_data_subset.csv',\n",
       " '__MACOSX/._test_data_subset.csv']"
      ]
     },
     "execution_count": 15,
     "metadata": {},
     "output_type": "execute_result"
    }
   ],
   "execution_count": 15
  },
  {
   "cell_type": "code",
   "source": [
    "test_data = pd.read_csv(zipfile.open(\"test_data_subset.csv\"))    "
   ],
   "metadata": {
    "id": "EIxay4Mkyt8L",
    "ExecuteTime": {
     "end_time": "2024-10-25T15:23:23.970675Z",
     "start_time": "2024-10-25T15:23:23.907109Z"
    }
   },
   "outputs": [],
   "execution_count": 16
  },
  {
   "cell_type": "code",
   "metadata": {
    "id": "k5txcfSgyXG0",
    "ExecuteTime": {
     "end_time": "2024-10-25T15:23:55.831811Z",
     "start_time": "2024-10-25T15:23:55.798218Z"
    }
   },
   "source": [
    "#load the columns to drop file\n",
    "columns_to_drop=pd.read_csv(\"data/columns_to_drop.csv\")\n",
    "columns_to_Retain = list(set(test_data.columns.values) - set(columns_to_drop.colnames.values))\n",
    "test_data = test_data[columns_to_Retain]\n",
    "\n",
    "column_datatypes = test_data.dtypes\n",
    "categorical_columns = list(column_datatypes[column_datatypes==\"object\"].index.values)"
   ],
   "outputs": [],
   "execution_count": 18
  },
  {
   "cell_type": "code",
   "metadata": {
    "id": "DrD5BtwRyXG0",
    "ExecuteTime": {
     "end_time": "2024-10-25T15:23:59.075384Z",
     "start_time": "2024-10-25T15:23:58.838306Z"
    }
   },
   "source": [
    "#Transfor the categorical columns by loading the fit encodings on training data\n",
    "\n",
    "for cf1 in categorical_columns:\n",
    "    filename = 'data/sav_files/' + cf1+\".sav\"\n",
    "    le = pickle.load(open(filename, 'rb'))\n",
    "    \n",
    "    #if an new classes is observed, set it to the 0 class\n",
    "    le_dict = dict(zip(le.classes_, le.transform(le.classes_)))\n",
    "    test_data[cf1]=test_data[cf1].apply(lambda x: le_dict.get(x, -1))"
   ],
   "outputs": [],
   "execution_count": 19
  },
  {
   "cell_type": "code",
   "metadata": {
    "id": "4X1ogbjUyXG1",
    "ExecuteTime": {
     "end_time": "2024-10-25T15:24:01.239067Z",
     "start_time": "2024-10-25T15:24:01.221213Z"
    }
   },
   "source": [
    "test_data_id = test_data['id']\n",
    "test_data = test_data.drop('id',axis=1)"
   ],
   "outputs": [],
   "execution_count": 20
  },
  {
   "cell_type": "code",
   "metadata": {
    "id": "Ku_8cFJkyXG1",
    "ExecuteTime": {
     "end_time": "2024-10-25T15:24:03.423245Z",
     "start_time": "2024-10-25T15:24:03.375023Z"
    }
   },
   "source": [
    "Column_datatypes= test_data.dtypes\n",
    "Integer_columns = list(Column_datatypes.where(lambda x: x ==\"int64\").dropna().index.values)\n",
    "#convert the int64 columns categorical\n",
    "test_data[Integer_columns] = test_data[Integer_columns].astype('category',copy=False)"
   ],
   "outputs": [],
   "execution_count": 21
  },
  {
   "cell_type": "code",
   "metadata": {
    "id": "Bv89GhHXyXG2",
    "ExecuteTime": {
     "end_time": "2024-10-25T15:24:17.238352Z",
     "start_time": "2024-10-25T15:24:16.837750Z"
    }
   },
   "source": [
    "#load the saved model and predict on the test data\n",
    "tunedmodel_rf = pickle.load(open(\"models/tunedmodel_rf\", 'rb'))"
   ],
   "outputs": [],
   "execution_count": 23
  },
  {
   "metadata": {
    "ExecuteTime": {
     "end_time": "2024-10-25T15:25:38.946860Z",
     "start_time": "2024-10-25T15:25:38.935758Z"
    }
   },
   "cell_type": "code",
   "source": [
    "expected_features = tunedmodel_rf.feature_names_in_\n",
    "array = np.array(expected_features)\n",
    "print(\"Expected features:\", array)"
   ],
   "outputs": [
    {
     "name": "stdout",
     "output_type": "stream",
     "text": [
      "Expected features: ['cat1' 'cat15' 'cat22' 'cat32' 'cat73' 'cat75' 'cat77' 'cat88' 'cat89'\n",
      " 'cat90' 'cat93' 'cat94' 'cat95' 'cat96' 'cat99' 'cat100' 'cat101'\n",
      " 'cat102' 'cat103' 'cat104' 'cat105' 'cat108' 'cat109' 'cat110' 'cat112'\n",
      " 'cat113' 'cat115' 'cat116' 'cont1' 'cont2' 'cont3' 'cont4' 'cont5'\n",
      " 'cont7' 'cont8' 'cont11' 'cont13' 'cont14']\n"
     ]
    }
   ],
   "execution_count": 27
  },
  {
   "metadata": {
    "ExecuteTime": {
     "end_time": "2024-10-25T15:25:40.929490Z",
     "start_time": "2024-10-25T15:25:40.914088Z"
    }
   },
   "cell_type": "code",
   "source": [
    "test_data = test_data.reindex(array, axis=1)\n",
    "test_data.columns"
   ],
   "outputs": [
    {
     "data": {
      "text/plain": [
       "Index(['cat1', 'cat15', 'cat22', 'cat32', 'cat73', 'cat75', 'cat77', 'cat88',\n",
       "       'cat89', 'cat90', 'cat93', 'cat94', 'cat95', 'cat96', 'cat99', 'cat100',\n",
       "       'cat101', 'cat102', 'cat103', 'cat104', 'cat105', 'cat108', 'cat109',\n",
       "       'cat110', 'cat112', 'cat113', 'cat115', 'cat116', 'cont1', 'cont2',\n",
       "       'cont3', 'cont4', 'cont5', 'cont7', 'cont8', 'cont11', 'cont13',\n",
       "       'cont14'],\n",
       "      dtype='object')"
      ]
     },
     "execution_count": 28,
     "metadata": {},
     "output_type": "execute_result"
    }
   ],
   "execution_count": 28
  },
  {
   "cell_type": "code",
   "metadata": {
    "id": "fLN64m5ZyXG2",
    "ExecuteTime": {
     "end_time": "2024-10-25T15:25:43.370960Z",
     "start_time": "2024-10-25T15:25:43.329262Z"
    }
   },
   "source": [
    "Y_test_predict = tunedmodel_rf.predict(test_data)\n",
    "test_data['predict_loss']=Y_test_predict\n",
    "test_data['id']=test_data_id\n",
    "test_data = test_data[['id','predict_loss']]"
   ],
   "outputs": [],
   "execution_count": 29
  },
  {
   "cell_type": "code",
   "metadata": {
    "id": "GRSkCUtNyXG3",
    "outputId": "8665e437-9613-410c-cc18-8a0d4dd05887",
    "ExecuteTime": {
     "end_time": "2024-10-25T15:25:45.463774Z",
     "start_time": "2024-10-25T15:25:45.444774Z"
    }
   },
   "source": [
    "test_data"
   ],
   "outputs": [
    {
     "data": {
      "text/plain": [
       "   id  predict_loss\n",
       "0   4      7.790048\n",
       "1   6      7.682504\n",
       "2   9      9.012571\n",
       "3  12      8.175791\n",
       "4  15      7.047276"
      ],
      "text/html": [
       "<div>\n",
       "<style scoped>\n",
       "    .dataframe tbody tr th:only-of-type {\n",
       "        vertical-align: middle;\n",
       "    }\n",
       "\n",
       "    .dataframe tbody tr th {\n",
       "        vertical-align: top;\n",
       "    }\n",
       "\n",
       "    .dataframe thead th {\n",
       "        text-align: right;\n",
       "    }\n",
       "</style>\n",
       "<table border=\"1\" class=\"dataframe\">\n",
       "  <thead>\n",
       "    <tr style=\"text-align: right;\">\n",
       "      <th></th>\n",
       "      <th>id</th>\n",
       "      <th>predict_loss</th>\n",
       "    </tr>\n",
       "  </thead>\n",
       "  <tbody>\n",
       "    <tr>\n",
       "      <th>0</th>\n",
       "      <td>4</td>\n",
       "      <td>7.790048</td>\n",
       "    </tr>\n",
       "    <tr>\n",
       "      <th>1</th>\n",
       "      <td>6</td>\n",
       "      <td>7.682504</td>\n",
       "    </tr>\n",
       "    <tr>\n",
       "      <th>2</th>\n",
       "      <td>9</td>\n",
       "      <td>9.012571</td>\n",
       "    </tr>\n",
       "    <tr>\n",
       "      <th>3</th>\n",
       "      <td>12</td>\n",
       "      <td>8.175791</td>\n",
       "    </tr>\n",
       "    <tr>\n",
       "      <th>4</th>\n",
       "      <td>15</td>\n",
       "      <td>7.047276</td>\n",
       "    </tr>\n",
       "  </tbody>\n",
       "</table>\n",
       "</div>"
      ]
     },
     "execution_count": 30,
     "metadata": {},
     "output_type": "execute_result"
    }
   ],
   "execution_count": 30
  }
 ],
 "metadata": {
  "kernelspec": {
   "display_name": "Python 3",
   "language": "python",
   "name": "python3"
  },
  "language_info": {
   "codemirror_mode": {
    "name": "ipython",
    "version": 3
   },
   "file_extension": ".py",
   "mimetype": "text/x-python",
   "name": "python",
   "nbconvert_exporter": "python",
   "pygments_lexer": "ipython3",
   "version": "3.7.4"
  },
  "colab": {
   "name": "Ensemble_Machine_Learning_Project_All_State_Insurance_Claims_Severity_Prediction_Model_Loss_prediction.ipynb",
   "provenance": [],
   "collapsed_sections": []
  }
 },
 "nbformat": 4,
 "nbformat_minor": 0
}
